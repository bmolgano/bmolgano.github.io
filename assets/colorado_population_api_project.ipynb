{
  "nbformat": 4,
  "nbformat_minor": 0,
  "metadata": {
    "colab": {
      "provenance": []
    },
    "kernelspec": {
      "name": "python3",
      "display_name": "Python 3"
    },
    "language_info": {
      "name": "python"
    }
  },
  "cells": [
    {
      "cell_type": "code",
      "execution_count": 1,
      "metadata": {
        "colab": {
          "base_uri": "https://localhost:8080/"
        },
        "id": "G_6gTfhP48QR",
        "outputId": "ad8d8cff-b855-42d7-88c3-cecdbe20f5de"
      },
      "outputs": [
        {
          "output_type": "stream",
          "name": "stdout",
          "text": [
            "                         NAME B01003_001E state county\n",
            "0      Adams County, Colorado      520149    08    001\n",
            "1    Alamosa County, Colorado       16460    08    003\n",
            "2   Arapahoe County, Colorado      654453    08    005\n",
            "3  Archuleta County, Colorado       13509    08    007\n",
            "4       Baca County, Colorado        3496    08    009\n"
          ]
        }
      ],
      "source": [
        "import requests\n",
        "import pandas as pd\n",
        "\n",
        "api_key = '0fd25ed381ad4d379d699379f1b6f6363de41fee'\n",
        "\n",
        "url = 'https://api.census.gov/data/2022/acs/acs5'\n",
        "\n",
        "params = {\n",
        "    'get': 'NAME,B01003_001E',\n",
        "    'for': 'county:*',\n",
        "    'in': 'state:08',  # Colorado\n",
        "    'key': api_key\n",
        "}\n",
        "\n",
        "response = requests.get(url, params=params)\n",
        "\n",
        "if response.status_code == 200:\n",
        "    data = response.json()\n",
        "    df = pd.DataFrame(data[1:], columns=data[0])\n",
        "    print(df.head())\n",
        "\n",
        "    # Save file to Colab environment\n",
        "    df.to_csv('colorado_county_population_from_api.csv', index=False)\n",
        "else:\n",
        "    print(f\"Error: {response.status_code}\")\n"
      ]
    },
    {
      "cell_type": "code",
      "source": [],
      "metadata": {
        "id": "KGKWL33w5OND"
      },
      "execution_count": null,
      "outputs": []
    }
  ]
}